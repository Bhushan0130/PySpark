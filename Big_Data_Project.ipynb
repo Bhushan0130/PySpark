{
  "nbformat": 4,
  "nbformat_minor": 0,
  "metadata": {
    "colab": {
      "private_outputs": true,
      "provenance": []
    },
    "kernelspec": {
      "name": "python3",
      "display_name": "Python 3"
    },
    "language_info": {
      "name": "python"
    },
    "accelerator": "TPU",
    "gpuClass": "standard"
  },
  "cells": [
    {
      "cell_type": "code",
      "execution_count": null,
      "metadata": {
        "id": "g4Vyn2RAlA-G"
      },
      "outputs": [],
      "source": [
        "!pip install pyspark"
      ]
    },
    {
      "cell_type": "code",
      "source": [
        "# Import modules related to PySpark\n",
        "import pyspark\n",
        "from pyspark.rdd import RDD\n",
        "from pyspark.sql import Row\n",
        "from pyspark.sql import DataFrame\n",
        "from pyspark.sql import SparkSession\n",
        "from pyspark.sql import SQLContext\n",
        "from pyspark.sql import functions\n",
        "from pyspark.sql.functions import lit, desc, col, size, array_contains,isnan, udf, hour, array_min, array_max, countDistinct\n",
        "from pyspark.sql.types import *"
      ],
      "metadata": {
        "id": "-n0yY2AelOaE"
      },
      "execution_count": null,
      "outputs": []
    },
    {
      "cell_type": "code",
      "source": [
        "import os\n",
        "import sys\n",
        "import pandas as pd\n",
        "from pandas import DataFrame\n",
        "import numpy as np\n",
        "import matplotlib.pyplot as plt\n",
        "import matplotlib.ticker as mtick\n",
        "import matplotlib\n",
        "from mpl_toolkits.mplot3d import Axes3D\n",
        "import math\n",
        "from IPython.core.interactiveshell import InteractiveShell\n",
        "from datetime import *\n",
        "import statistics as stats"
      ],
      "metadata": {
        "id": "cpBJnM4rlfcw"
      },
      "execution_count": null,
      "outputs": []
    },
    {
      "cell_type": "code",
      "source": [
        "# This would help to print in way of auto print without explixictly using 'pyspark'\n",
        "InteractiveShell.ast_node_interactivity = 'all'\n",
        "%matplotlib inline"
      ],
      "metadata": {
        "id": "Gbf6mGL1ljRx"
      },
      "execution_count": null,
      "outputs": []
    },
    {
      "cell_type": "code",
      "source": [
        "MAX_MEMORY = '15G'\n",
        "\n",
        "#initializing a spark session\n",
        "conf = pyspark.SparkConf().setMaster(\"local[*]\") \\\n",
        "        .set('spark.executor.heartbeatInterval', 10000) \\\n",
        "        .set('spark.network.timeout', 10000) \\\n",
        "        .set(\"spark.core.connection.ack.wait.timeout\", \"3600\") \\\n",
        "        .set(\"spark.executor.memory\", MAX_MEMORY) \\\n",
        "        .set(\"spark.driver.memory\", MAX_MEMORY)\n",
        "  \n",
        "def init_spark():\n",
        "    spark = SparkSession.builder.appName(\"Pyspark guide\").config(conf=conf).getOrCreate()\n",
        "    return spark"
      ],
      "metadata": {
        "id": "G9rvR88yl7Dz"
      },
      "execution_count": null,
      "outputs": []
    },
    {
      "cell_type": "code",
      "source": [
        "import warnings\n",
        "warnings.filterwarnings('ignore')"
      ],
      "metadata": {
        "id": "vDIhbJp2pFYO"
      },
      "execution_count": null,
      "outputs": []
    },
    {
      "cell_type": "code",
      "source": [
        "spark = init_spark()"
      ],
      "metadata": {
        "id": "Otak4njmmoOp"
      },
      "execution_count": null,
      "outputs": []
    },
    {
      "cell_type": "code",
      "source": [
        "%cd /content/drive/MyDrive/"
      ],
      "metadata": {
        "id": "Se8MSW_6msMs"
      },
      "execution_count": null,
      "outputs": []
    },
    {
      "cell_type": "code",
      "source": [
        "'https://drive.google.com/drive/u/2/my-drive'"
      ],
      "metadata": {
        "id": "j2JF0e5PmvR2"
      },
      "execution_count": null,
      "outputs": []
    },
    {
      "cell_type": "code",
      "source": [
        "df = spark.read.json(\"/content/drive/MyDrive/endomondoHR_proper.json\", mode = \"DROPMALFORMED\")\n",
        "# Dataset https://sites.google.com/eng.ucsd.edu/fitrec-project/home"
      ],
      "metadata": {
        "id": "zcjSJP9enBUO"
      },
      "execution_count": null,
      "outputs": []
    },
    {
      "cell_type": "code",
      "source": [
        "print(\"df type:\", str(type(df)))\n",
        "     "
      ],
      "metadata": {
        "id": "Weilcc8lus8U"
      },
      "execution_count": null,
      "outputs": []
    },
    {
      "cell_type": "code",
      "source": [
        "print(\"Overview\")\n",
        "df.printSchema()\n",
        "print(\"Columns overview\")\n",
        "pd.DataFrame(df.dtypes, columns = ['Col Name', 'Data types'])"
      ],
      "metadata": {
        "id": "OsgARQUXvUtQ"
      },
      "execution_count": null,
      "outputs": []
    },
    {
      "cell_type": "code",
      "source": [
        "#description\n",
        "df.describe().toPandas()     "
      ],
      "metadata": {
        "id": "IXCMjlzWvhku"
      },
      "execution_count": null,
      "outputs": []
    },
    {
      "cell_type": "code",
      "source": [
        "df.limit(5).toPandas()"
      ],
      "metadata": {
        "id": "tmfhbG3Hvrbj"
      },
      "execution_count": null,
      "outputs": []
    },
    {
      "cell_type": "code",
      "source": [
        "string_columns = ['gender', 'sport', 'url']\n",
        "numeric_columns = ['id','userId']\n",
        "array_columns = ['altitude', 'heart_rate', 'latitude', 'longitude', 'speed', 'timestamp']"
      ],
      "metadata": {
        "id": "ZzWZ7S91vxSg"
      },
      "execution_count": null,
      "outputs": []
    },
    {
      "cell_type": "markdown",
      "source": [
        "Checking missing values"
      ],
      "metadata": {
        "id": "jzSZ2ePp1yjW"
      }
    },
    {
      "cell_type": "code",
      "source": [
        "missing_values = {}\n",
        "for index, column in enumerate(df.columns):\n",
        "    if column in string_columns:\n",
        "        missing_count = df.filter(col(column).eqNullSafe(None) | col(column).isNull()).count() # count where None and null values are present\n",
        "        missing_values.update({column:missing_count})\n",
        "    if column in numeric_columns:  \n",
        "        missing_count = df.where(col(column).isin([0,None,np.nan])).count() # count where 0, None and null values are present\n",
        "        missing_values.update({column:missing_count})\n",
        "    if column in array_columns:  \n",
        "        missing_count = df.filter(array_contains(df[column], 0) | array_contains(df[column], np.nan)).count() # count where 0 and null values are present\n",
        "        missing_values.update({column:missing_count})\n",
        "\n",
        "missing_df = pd.DataFrame.from_dict([missing_values])\n",
        "missing_df"
      ],
      "metadata": {
        "id": "8cb7GmfAwRt_"
      },
      "execution_count": null,
      "outputs": []
    },
    {
      "cell_type": "code",
      "source": [
        "# We create new column to count the number of timestamps recorded per row/workout, named as 'PerWorkoutRecordCount' column\n",
        "df = df.withColumn('PerWorkoutRecordCount', size(col('timestamp')))\n",
        "def user_activity_workout_summarize(df):\n",
        "    user_count = format(df.select('userId').distinct().count(), ',d')\n",
        "    workout_count = format(df.select('id').distinct().count(), ',d')\n",
        "    activity_count = str(df.select('sport').distinct().count())\n",
        "    sum_temp = df.agg(functions.sum('PerWorkoutRecordCount')).toPandas()\n",
        "    total_records_count = format(sum_temp['sum(PerWorkoutRecordCount)'][0],',d')\n",
        "    columns=['Users count', 'Activity types count','Workouts count', 'Total records count']\n",
        "    data = [[user_count], [activity_count], [workout_count], [total_records_count]]\n",
        "    sum_dict = {column: data[i] for i, column in enumerate(columns)}\n",
        "    sum_df = pd.DataFrame.from_dict(sum_dict)[columns]\n",
        "    gender_user_count = df.select('gender','userId').distinct().groupBy('gender').count().toPandas()\n",
        "    gender_activities_count = df.groupBy('gender').count().toPandas()\n",
        "    gender_user_activity_count = gender_user_count.join(gender_activities_count.set_index('gender'), on='gender', how='inner', lsuffix='_gu')\n",
        "    gender_user_activity_count.columns = ['Gender', '# of users', 'Activities (workouts) count']\n",
        "    \n",
        "    return sum_df, gender_user_activity_count\n",
        "\n",
        "sum_dfs= user_activity_workout_summarize(df)\n",
        "print('\\nOverall data set summary on users, workouts and number of records (pre-filtering):')\n",
        "sum_dfs[0]\n",
        "     "
      ],
      "metadata": {
        "id": "vCSdISASwUF_"
      },
      "execution_count": null,
      "outputs": []
    },
    {
      "cell_type": "code",
      "source": [
        "ranked_sport_users_df = df.select(df.sport, df.userId).distinct().groupBy(df.sport).count().orderBy(\"count\", ascending=False)\n",
        "\n",
        "# Top 5 workout types\n",
        "highest_sport_users_df = ranked_sport_users_df.limit(5).toPandas()\n",
        "# Rename column name : 'count' --> Users count\n",
        "highest_sport_users_df.rename(columns = {'count':'Users count'}, inplace = True)\n",
        "# Caculate the total users\n",
        "total_sports_users = ranked_sport_users_df.groupBy().sum().collect()[0][0]"
      ],
      "metadata": {
        "id": "Fav4RHs1wXZy"
      },
      "execution_count": null,
      "outputs": []
    },
    {
      "cell_type": "code",
      "source": [
        "ranked_sport_users_df.collect()[:5] #retrieving all the elements of sports and user id counts upto top 5"
      ],
      "metadata": {
        "id": "teVwN1r6xaBV"
      },
      "execution_count": null,
      "outputs": []
    },
    {
      "cell_type": "code",
      "source": [],
      "metadata": {
        "id": "tBSRgmdixgOK"
      },
      "execution_count": null,
      "outputs": []
    },
    {
      "cell_type": "markdown",
      "source": [
        "Exploratory Data Analysis"
      ],
      "metadata": {
        "id": "2mOXbsizxv4D"
      }
    },
    {
      "cell_type": "markdown",
      "source": [
        "percentage of top 5 workout type / total users"
      ],
      "metadata": {
        "id": "apqSFP88x8Fs"
      }
    },
    {
      "cell_type": "code",
      "source": [
        "highest_sport_users_df_renamed = highest_sport_users_df\n",
        "highest_sport_users_df_renamed['percentage'] = highest_sport_users_df['Users count']/ total_sports_users * 100\n",
        "\n",
        "# We assign the rest of users belong to another specific group that we can say 'others'\n",
        "others = {\n",
        "      'sport': 'others'\n",
        "    , 'Users count': total_sports_users - sum(highest_sport_users_df_renamed['Users count'])\n",
        "    , 'percentage': 100 - sum(highest_sport_users_df_renamed['percentage'])\n",
        "}\n",
        "\n",
        "highest_sport_users_df_renamed = highest_sport_users_df_renamed.append(\n",
        "    others, ignore_index=True\n",
        ")\n",
        "print('Top 5 sports that have the most users participated:')\n",
        "highest_sport_users_df_renamed\n",
        "\n",
        "fig, axs = plt.subplots(nrows=1, ncols=2, figsize=plt.figaspect(0.35))\n",
        "\n",
        "plot0 =   axs[0].bar(x=highest_sport_users_df_renamed['sport']\n",
        "                     , height=highest_sport_users_df_renamed['Users count'])\n",
        "title0 =  axs[0].set_title('Users count', fontsize = 'small')\n",
        "xlabel0 = axs[0].set_xlabel('Sport', fontsize = 'small')\n",
        "ylabel0 = axs[0].set_ylabel('Users count', fontsize = 'small')\n",
        "xsticks_label = axs[0].set_xticklabels(highest_sport_users_df_renamed['sport'] \n",
        "                                       ,rotation = 'vertical', fontsize='small')\n",
        "explode = (0.1, 0.1, 0.3, 0.3, 0.3, 0.1)\n",
        "title1 = axs[1].set_title('User ratio', fontsize = 'small')\n",
        "plot1 = axs[1].pie(\n",
        "      x=highest_sport_users_df_renamed['percentage']\n",
        "    , labels=highest_sport_users_df_renamed['sport']\n",
        "    , autopct='%1.1f%%', shadow=True, explode=explode, startangle=90\n",
        "    , radius=1\n",
        ")\n",
        "\n",
        "text = fig.text(0.5, 1.02, 'Top 5 sports having the most users', ha='center', va='top', transform=fig.transFigure)"
      ],
      "metadata": {
        "id": "3UnFQJzPx4E0"
      },
      "execution_count": null,
      "outputs": []
    },
    {
      "cell_type": "code",
      "source": [
        "#activities by gender\n",
        "activities_by_gender = df.groupBy('sport', 'gender').count().toPandas() \n",
        "activities_by_gender[:5]"
      ],
      "metadata": {
        "id": "Q9_VYLKwx7VD"
      },
      "execution_count": null,
      "outputs": []
    },
    {
      "cell_type": "code",
      "source": [
        "total_activities = ranked_sport_users_df.count()\n",
        "print(f'There are total: {total_activities} activities and here is the chart for activities based on gender:')\n",
        "# Adding activities based on gender\n",
        "activities_by_gender = df.groupBy('sport', 'gender').count().toPandas()\n",
        "# Visualization\n",
        "fig = plt.figure(figsize=(12, 25))\n",
        "grid_size = (1,1);\n",
        "ax = plt.subplot2grid(grid_size, (0,0), colspan=1, rowspan=1)\n",
        "plot = activities_by_gender.groupby(['sport', 'gender']).agg(np.mean).groupby(level=0).apply(\n",
        "    lambda x: 100 * x / x.sum()).unstack().plot(kind='barh', stacked=True, width=1  ## APPLY UNSTACK TO RESHAPE DATA\n",
        "                , edgecolor='black', ax=ax, title='List of all activities by gender')\n",
        "ylabel = plt.ylabel('Sport (Activity)');\n",
        "xlabel = plt.xlabel('Participation percentage by gender');\n",
        "legend = plt.legend(\n",
        "    sorted(activities_by_gender['gender'].unique()), loc='center left', bbox_to_anchor=(1.0, 0.5)\n",
        ")\n",
        "param_update = plt.rcParams.update({'font.size': 16});\n",
        "ax = plt.gca()\n",
        "formatter = ax.xaxis.set_major_formatter(mtick.PercentFormatter());\n",
        "a = fig.tight_layout()\n",
        "plt.show()"
      ],
      "metadata": {
        "id": "RecYV-6pyJej"
      },
      "execution_count": null,
      "outputs": []
    },
    {
      "cell_type": "code",
      "source": [
        "activities_by_gender_df = activities_by_gender.pivot_table(\n",
        "    index=\"sport\", columns=\"gender\", values='count', fill_value=0).reset_index().rename_axis(None, axis=1)\n",
        "\n",
        "activities_by_gender_df['total'] = activities_by_gender_df['male']+ activities_by_gender_df['female']+ activities_by_gender_df['unknown']\n",
        "activities_by_gender_df['percentage'] = activities_by_gender_df['total']/ sum(activities_by_gender_df['total']) * 100\n",
        "top_activities_by_gender_df = activities_by_gender_df.sort_values(\n",
        "    by='percentage', ascending=False\n",
        ").head(5)\n",
        "\n",
        "others = {'sport' : 'others'}\n",
        "for column in ['female', 'male', 'unknown', 'total', 'percentage']:\n",
        "    value = sum(activities_by_gender_df[column]) - sum(top_activities_by_gender_df[column])\n",
        "    others.update({column: value})\n",
        "top_activities_by_gender_df = top_activities_by_gender_df.append(others, ignore_index=True)\n",
        "top_activities_by_gender_df = top_activities_by_gender_df.sort_values(by='percentage', ascending=False)\n",
        "top_activities_by_gender_df\n",
        "\n",
        "#visualization\n",
        "fig, axs = plt.subplots(nrows=1, ncols=2, figsize=plt.figaspect(0.35))\n",
        "\n",
        "plot0 = axs[0].bar(x=top_activities_by_gender_df['sport']\n",
        "                   , height=top_activities_by_gender_df['total'])\n",
        "title0 = axs[0].set_title('Workout count', fontsize='small')\n",
        "xlabel0 = axs[0].set_xlabel('Sport', fontsize='small')\n",
        "ylabel0 = axs[0].set_ylabel('Workout count (times)', fontsize='small')\n",
        "xsticks_label = axs[0].set_xticklabels(top_activities_by_gender_df['sport']\n",
        "                                       , rotation='vertical', fontsize='small')\n",
        "explode = (0.1, 0.1, 0.3, 0.3, 0.3, 0.3)\n",
        "title1 = axs[1].set_title('Workout ratio', fontsize = 'small')\n",
        "plot1 = axs[1].pie(\n",
        "    x=top_activities_by_gender_df['percentage']\n",
        "    , labels=top_activities_by_gender_df['sport']\n",
        "    , autopct='%1.1f%%', shadow=True, explode=explode, radius=1\n",
        ")\n",
        "\n",
        "text = fig.text(0.5, 1.02, 'Top 5 sports that were most participated'\n",
        "                , ha='center', va='top', transform=fig.transFigure)"
      ],
      "metadata": {
        "id": "62h5z6WZyKkS"
      },
      "execution_count": null,
      "outputs": []
    },
    {
      "cell_type": "code",
      "source": [
        "min_number_of_sports = 1\n",
        "\n",
        "sport_df = df \\\n",
        "    .select(df.userId, df.gender, df.sport) \\\n",
        "    .distinct() \\\n",
        "    .groupBy(df.userId, df.gender) \\\n",
        "    .count()    \n",
        "\n",
        "user_more_sports_df = sport_df \\\n",
        "                    .filter(sport_df[\"count\"] > min_number_of_sports) \\\n",
        "                    .orderBy(\"count\", ascending = False) \\\n",
        "                    .toPandas()\n",
        "user_more_sports_df.rename(columns = {'count':'Sports count'}, inplace = True)\n",
        "user_more_sports_df.describe().astype(int).T"
      ],
      "metadata": {
        "id": "7O5Ysg_pyPft"
      },
      "execution_count": null,
      "outputs": []
    },
    {
      "cell_type": "code",
      "source": [
        "plot = user_more_sports_df.boxplot(column='Sports count', by='gender', fontsize='small', figsize=(6,7))"
      ],
      "metadata": {
        "id": "s2JLIUqjyS9k"
      },
      "execution_count": null,
      "outputs": []
    },
    {
      "cell_type": "code",
      "source": [
        "df.columns"
      ],
      "metadata": {
        "id": "TwULeDLZ08Xt"
      },
      "execution_count": null,
      "outputs": []
    },
    {
      "cell_type": "code",
      "source": [
        "print('\\nPlot of workouts distribution plot by activity type:')\n",
        "plot_size_x, plot_size_y = 5, 5\n",
        "figsize_x, figsize_y = plot_size_x * 4 + 3, plot_size_y * 13 + 1\n",
        "figsize=(figsize_x, figsize_y)\n",
        "fig = plt.figure(figsize=figsize) #\n",
        "grid_size = (13,4)\n",
        "ax = plt.subplot2grid(grid_size, (0,0), colspan=1, rowspan=1)\n",
        "#fig, ax = plt.subplots()\n",
        "PerWorkoutRecordCount_dist = df.select('PerWorkoutRecordCount', 'sport').toPandas().hist(\n",
        "    column='PerWorkoutRecordCount', bins=10, sharex = False, grid=True\n",
        "    , xlabelsize='small', ylabelsize='small', by='sport', ax = ax\n",
        "    , layout = grid_size, figsize=figsize)\n",
        "a = fig.tight_layout()\n",
        "title = fig.text(0.5, 1, 'Distribution of records count per workout by sport', ha='center', fontsize='small', transform=fig.transFigure)\n",
        "xlabel = fig.text(0.5, 0.01, '# of records/workout', va='bottom', ha='center', transform=fig.transFigure)\n",
        "ylabel = fig.text(0.01, 0.5, 'Frequency (count)', va='center', rotation='vertical')"
      ],
      "metadata": {
        "id": "VuXQ8t2ByWUn"
      },
      "execution_count": null,
      "outputs": []
    },
    {
      "cell_type": "code",
      "source": [
        "df.limit(3).toPandas()"
      ],
      "metadata": {
        "id": "bxeq25aiyaO5"
      },
      "execution_count": null,
      "outputs": []
    },
    {
      "cell_type": "code",
      "source": [
        "# Filtering df with at least 10 records (as we are assumming if any user_id with less then 10 record would not be meaningful)\n",
        "qualified_df = df.select(df.sport, df.userId, df.gender).groupBy(df.sport, df.userId, df.gender).count()\n",
        "qualified_df = qualified_df.filter(qualified_df[\"count\"] >= 10).orderBy(\"count\", ascending = False)"
      ],
      "metadata": {
        "id": "-6HvXP6UyeWo"
      },
      "execution_count": null,
      "outputs": []
    },
    {
      "cell_type": "code",
      "source": [
        "print('Number of users having more than 10 workouts:')\n",
        "qualified_pd_df = qualified_df.select(\"userId\", \"gender\").distinct().groupBy(qualified_df.gender).count().toPandas()\n",
        "qualified_pd_df.rename(columns={'count': 'Users count'}, inplace=True)\n",
        "qualified_pd_df\n",
        "\n",
        "\n",
        "qualified_users_count = sum(qualified_pd_df['Users count'])\n",
        "\n",
        "total_users_count = df.select('userId').distinct().count()\n",
        "\n",
        "qualified_percentage = round((qualified_users_count / total_users_count),2) * 100\n",
        "\n",
        "print('\\nSo there is {} / {} of users qualifying the 10 historical records criteria, which is {:.2f}%'.format(qualified_users_count, total_users_count, qualified_percentage))"
      ],
      "metadata": {
        "id": "oi_7SmTmyhzD"
      },
      "execution_count": null,
      "outputs": []
    },
    {
      "cell_type": "code",
      "source": [
        "#checking timestamp column\n",
        "df.limit(3).toPandas()"
      ],
      "metadata": {
        "id": "v8oTPm5Fytgj"
      },
      "execution_count": null,
      "outputs": []
    },
    {
      "cell_type": "markdown",
      "source": [
        "Extracting import features from timestamp column"
      ],
      "metadata": {
        "id": "tFv0BOnPJOoo"
      }
    },
    {
      "cell_type": "code",
      "source": [
        "# Convert a timestamp column into Datetime.Datetime, to be used for .withColumn function later\n",
        "def to_time(timestamp_list):\n",
        "    # convert to datetime and minus 7 hours due to the difference in Endomondo time window with utc time as the dataset description\n",
        "    return [datetime.fromtimestamp(t) - timedelta(hours=7) for t in timestamp_list]\n",
        "\n",
        "# Register 'to_time' function into UDF pyspark framework\n",
        "udf_to_time = udf(to_time, ArrayType(elementType=TimestampType()))\n",
        "\n",
        "# Support function to get the duration (in minutes) of a list of datetime values, to be used for withColumn function later\n",
        "def get_duration(datetime_list):\n",
        "    time_dif = max(datetime_list) - min(datetime_list)\n",
        "    return time_dif.seconds/60\n",
        "\n",
        "# Register the support function 'get_duration' as a user defined function into pyspark framework\n",
        "udf_get_duration = udf(get_duration, FloatType())\n",
        "\n",
        "# Support function to get the workout start time of the datetime list, to be used for withColumn function later\n",
        "def get_start_time(datetime_list):\n",
        "    return min(datetime_list)\n",
        "\n",
        "# Register the support function 'get_start_time' as a user defined function into pyspark framework\n",
        "udf_get_start_time = udf(get_start_time, TimestampType())\n",
        "\n",
        "# Support function to get list of intervals within a workout\n",
        "def get_interval(datetime_list):\n",
        "    if len(datetime_list) == 1:\n",
        "        return [0]\n",
        "    else:\n",
        "        interval_list = []\n",
        "        for i in range(0, len(datetime_list)-1):\n",
        "            interval = (datetime_list[i+1] - datetime_list[i]).seconds\n",
        "            interval_list.append(interval)\n",
        "        return interval_list\n",
        "\n",
        "# Registering the support function 'get_interval' as a user defined function into pyspark framework    \n",
        "udf_get_interval = udf(get_interval, ArrayType(elementType=IntegerType()))\n",
        "\n",
        "# Creating new 'date_time' column to convert from timestamp into python's datetime format for later usage\n",
        "df = df.withColumn('date_time', udf_to_time('timestamp'))\n",
        "\n",
        "# Creating 'workout_start_time' column to get the start time of each workout/row:\n",
        "df = df.withColumn('workout_start_time', hour(udf_get_start_time('date_time')))\n",
        "\n",
        "# Creating duration column from the date_time column just created, using the udf function udf_get_duration defined above\n",
        "df = df.withColumn('duration', udf_get_duration('date_time'))\n",
        "\n",
        "# Creating interval column from the date_time column, using the udf function udf_get_interval defined above\n",
        "df = df.withColumn('interval', udf_get_interval('date_time'))\n",
        "\n",
        "print('New columns (''date_time'', ''workout_start_time'' in hour, ''duration'' in minutes & ''interval'' in seconds)\\n, first 5 rows:')\n",
        "\n",
        "df.select('timestamp','date_time', 'workout_start_time', 'duration', 'interval').limit(5).toPandas()"
      ],
      "metadata": {
        "id": "pt_6W4sYyw3K"
      },
      "execution_count": null,
      "outputs": []
    },
    {
      "cell_type": "code",
      "source": [
        "#checking all columns\n",
        "df.limit(3).toPandas()"
      ],
      "metadata": {
        "id": "gJuzdfkTy5Lf"
      },
      "execution_count": null,
      "outputs": []
    },
    {
      "cell_type": "code",
      "source": [
        "#checking duration stats\n",
        "df.select('duration').toPandas().describe().T"
      ],
      "metadata": {
        "id": "YgidbuBay6fB"
      },
      "execution_count": null,
      "outputs": []
    },
    {
      "cell_type": "code",
      "source": [
        "print('\\nPlotting distribution of duration per sport type:')\n",
        "plot_size_x, plot_size_y = 5, 5 \n",
        "\n",
        "figsize_x, figsize_y = plot_size_x * 4 +3, plot_size_y * 13 + 1\n",
        "\n",
        "figsize = (figsize_x, figsize_y)\n",
        "\n",
        "fig = plt.figure(figsize=figsize)\n",
        "\n",
        "grid_size = (13,4)\n",
        "\n",
        "ax = plt.subplot2grid(grid_size, (0,0), colspan=1, rowspan=1)\n",
        "\n",
        "duration_dist = df.select('duration', 'sport').toPandas().hist(\n",
        "    column='duration', by='sport', bins=15, sharex = False, grid=True\n",
        "    , xlabelsize='small', ylabelsize='small' , ax = ax\n",
        "    , layout = grid_size, figsize=figsize\n",
        "    )\n",
        "\n",
        "a = fig.tight_layout()\n",
        "\n",
        "title = fig.text(0.5, 1, 'Distribution of workout duration by sport'\n",
        "             , ha='center', va='center', transform=fig.transFigure\n",
        "            )\n",
        "\n",
        "xlabel = fig.text(0.5, 0.01, 'Workout duration (minutes)'\n",
        "             , ha='center', va='center', transform=fig.transFigure)\n",
        "\n",
        "ylabel = fig.text(0.01, 0.5, 'Frequency (count)', va='center', rotation='vertical')"
      ],
      "metadata": {
        "id": "6WP5bspUy9Rv"
      },
      "execution_count": null,
      "outputs": []
    },
    {
      "cell_type": "code",
      "source": [],
      "metadata": {
        "id": "OhN9TCh1zBMs"
      },
      "execution_count": null,
      "outputs": []
    }
  ]
}